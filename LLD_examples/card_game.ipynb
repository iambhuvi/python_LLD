{
 "cells": [
  {
   "cell_type": "code",
   "execution_count": 1,
   "id": "dade50db-36aa-4973-a83c-f1c63670d946",
   "metadata": {},
   "outputs": [],
   "source": [
    "import random\n",
    "import sys\n",
    "\n",
    "class Card:\n",
    "    SUITS = \"♠ ♡ ♢ ♣\".split()\n",
    "    RANKS = \"2 3 4 5 6 7 8 9 10 J Q K A\".split()\n",
    "\n",
    "    def __init__(self, suit, rank):\n",
    "        self.suit = suit\n",
    "        self.rank = rank\n",
    "\n",
    "    def __repr__(self):\n",
    "        return f\"{self.suit}{self.rank}\"\n"
   ]
  },
  {
   "cell_type": "code",
   "execution_count": 2,
   "id": "deed0021-447f-4e48-b14b-f42ee6c51cdd",
   "metadata": {},
   "outputs": [],
   "source": [
    "class Deck:\n",
    "    def __init__(self, cards):\n",
    "        self.cards = cards\n",
    "\n",
    "    @classmethod\n",
    "    def create(cls, shuffle=False):\n",
    "        \"\"\"Create a new deck of 52 cards\"\"\"\n",
    "        cards = [Card(s, r) for r in Card.RANKS for s in Card.SUITS]\n",
    "        if shuffle:\n",
    "            random.shuffle(cards)\n",
    "        return cls(cards)\n",
    "\n",
    "    def deal(self, num_hands):\n",
    "        \"\"\"Deal the cards in the deck into a number of hands\"\"\"\n",
    "        cls = self.__class__\n",
    "        return tuple(cls(self.cards[i::num_hands]) for i in range(num_hands))\n"
   ]
  },
  {
   "cell_type": "code",
   "execution_count": 3,
   "id": "14f973f6-6454-406a-8574-f6c46ed6e9d5",
   "metadata": {},
   "outputs": [],
   "source": [
    "class Player:\n",
    "    def __init__(self, name, hand):\n",
    "        self.name = name\n",
    "        self.hand = hand\n",
    "\n",
    "    def play_card(self):\n",
    "        \"\"\"Play a card from the player's hand\"\"\"\n",
    "        card = random.choice(self.hand.cards)\n",
    "        self.hand.cards.remove(card)\n",
    "        print(f\"{self.name}: {card!r:<3}  \", end=\"\")\n",
    "        return card\n"
   ]
  },
  {
   "cell_type": "code",
   "execution_count": 4,
   "id": "a6942f6a-d679-46a9-acb3-7ca18b84b7c9",
   "metadata": {},
   "outputs": [],
   "source": [
    "class Game:\n",
    "    def __init__(self, *names):\n",
    "        \"\"\"Set up the deck and deal cards to 4 players\"\"\"\n",
    "        deck = Deck.create(shuffle=True)\n",
    "        self.names = (list(names) + \"P1 P2 P3 P4\".split())[:4]\n",
    "        self.hands = {\n",
    "            n: Player(n, h) for n, h in zip(self.names, deck.deal(4))\n",
    "        }\n",
    "\n",
    "    def play(self):\n",
    "        \"\"\"Play a card game\"\"\"\n",
    "        start_player = random.choice(self.names)\n",
    "        turn_order = self.player_order(start=start_player)\n",
    "\n",
    "        # Play cards from each player's hand until empty\n",
    "        while self.hands[start_player].hand.cards:\n",
    "            for name in turn_order:\n",
    "                self.hands[name].play_card()\n",
    "            print()\n",
    "\n",
    "    def player_order(self, start=None):\n",
    "        \"\"\"Rotate player order so that start goes first\"\"\"\n",
    "        if start is None:\n",
    "            start = random.choice(self.names)\n",
    "        start_idx = self.names.index(start)\n",
    "        return self.names[start_idx:] + self.names[:start_idx]\n"
   ]
  },
  {
   "cell_type": "code",
   "execution_count": 6,
   "id": "686a760d-ce99-4d35-b2d5-38f2fad7373d",
   "metadata": {},
   "outputs": [
    {
     "name": "stdout",
     "output_type": "stream",
     "text": [
      "Jyoti: ♢4   Dev: ♡10  Aryan: ♡2   Bhuvi: ♠4   \n",
      "Jyoti: ♢A   Dev: ♠6   Aryan: ♢6   Bhuvi: ♣K   \n",
      "Jyoti: ♡Q   Dev: ♠9   Aryan: ♣10  Bhuvi: ♣6   \n",
      "Jyoti: ♠8   Dev: ♡6   Aryan: ♠7   Bhuvi: ♢K   \n",
      "Jyoti: ♢7   Dev: ♢5   Aryan: ♠5   Bhuvi: ♣A   \n",
      "Jyoti: ♠K   Dev: ♢Q   Aryan: ♠Q   Bhuvi: ♡8   \n",
      "Jyoti: ♠10  Dev: ♣7   Aryan: ♢8   Bhuvi: ♣8   \n",
      "Jyoti: ♠A   Dev: ♢2   Aryan: ♣4   Bhuvi: ♡4   \n",
      "Jyoti: ♣9   Dev: ♣J   Aryan: ♡J   Bhuvi: ♠2   \n",
      "Jyoti: ♣2   Dev: ♣Q   Aryan: ♡9   Bhuvi: ♡7   \n",
      "Jyoti: ♡5   Dev: ♢3   Aryan: ♠J   Bhuvi: ♡K   \n",
      "Jyoti: ♢10  Dev: ♣3   Aryan: ♣5   Bhuvi: ♢9   \n",
      "Jyoti: ♡3   Dev: ♡A   Aryan: ♠3   Bhuvi: ♢J   \n"
     ]
    }
   ],
   "source": [
    "\n",
    "player_names = [\"Aryan\", \"Bhuvi\", \"Jyoti\", \"Dev\"]\n",
    "game = Game(*player_names)\n",
    "game.play()"
   ]
  },
  {
   "cell_type": "code",
   "execution_count": null,
   "id": "08a4c012-d046-456c-9df4-ea136801fb42",
   "metadata": {},
   "outputs": [],
   "source": []
  }
 ],
 "metadata": {
  "kernelspec": {
   "display_name": "Python 3 (ipykernel)",
   "language": "python",
   "name": "python3"
  },
  "language_info": {
   "codemirror_mode": {
    "name": "ipython",
    "version": 3
   },
   "file_extension": ".py",
   "mimetype": "text/x-python",
   "name": "python",
   "nbconvert_exporter": "python",
   "pygments_lexer": "ipython3",
   "version": "3.9.13"
  }
 },
 "nbformat": 4,
 "nbformat_minor": 5
}
